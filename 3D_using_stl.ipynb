{
  "cells": [
    {
      "cell_type": "markdown",
      "metadata": {
        "colab_type": "text",
        "id": "view-in-github"
      },
      "source": [
        "<a href=\"https://colab.research.google.com/github/armindocachada/create-3d-model-using-python/blob/master/Python_notebook_to_learn_how_to_create_3D_objects_in_STL_format.ipynb\" target=\"_parent\"><img src=\"https://colab.research.google.com/assets/colab-badge.svg\" alt=\"Open In Colab\"/></a>"
      ]
    },
    {
      "cell_type": "markdown",
      "metadata": {
        "id": "4j12wx_zoUfn"
      },
      "source": [
        "Install Numpy-stl library\n"
      ]
    },
    {
      "cell_type": "code",
      "execution_count": 1,
      "metadata": {
        "colab": {
          "base_uri": "https://localhost:8080/",
          "height": 258
        },
        "id": "Fyn8m5uunzCx",
        "outputId": "da127959-a2fb-4530-c3bf-aebceccb5651"
      },
      "outputs": [
        {
          "name": "stdout",
          "output_type": "stream",
          "text": [
            "Defaulting to user installation because normal site-packages is not writeable\n",
            "Requirement already satisfied: numpy-stl in /home/artium/.local/lib/python3.10/site-packages (2.16.3)\n",
            "Requirement already satisfied: numpy in /usr/lib/python3.10/site-packages (from numpy-stl) (1.22.3)\n",
            "Requirement already satisfied: python-utils>=1.6.2 in /home/artium/.local/lib/python3.10/site-packages (from numpy-stl) (3.1.0)\n"
          ]
        }
      ],
      "source": [
        "!pip3 install numpy-stl"
      ]
    },
    {
      "cell_type": "code",
      "execution_count": 7,
      "metadata": {},
      "outputs": [],
      "source": [
        "import numpy as np\n",
        "from stl import mesh"
      ]
    },
    {
      "cell_type": "markdown",
      "metadata": {
        "id": "GZLesu8H67kn"
      },
      "source": [
        "Read image from file and display on the screen"
      ]
    },
    {
      "cell_type": "code",
      "execution_count": 4,
      "metadata": {
        "colab": {
          "base_uri": "https://localhost:8080/",
          "height": 286
        },
        "id": "8IicJHc66_xT",
        "outputId": "d200f332-3f3e-41f3-c29f-1c3ba61e7518"
      },
      "outputs": [
        {
          "data": {
            "text/plain": [
              "<matplotlib.image.AxesImage at 0x7f2fb62a4e80>"
            ]
          },
          "execution_count": 4,
          "metadata": {},
          "output_type": "execute_result"
        },
        {
          "data": {
            "image/png": "[encoded data removed]",
            "text/plain": [
              "<Figure size 432x288 with 1 Axes>"
            ]
          },
          "metadata": {
            "needs_background": "light"
          },
          "output_type": "display_data"
        }
      ],
      "source": [
        "from PIL import Image\n",
        "import matplotlib.pyplot as plt\n",
        "import os\n",
        "\n",
        "path = os.getcwd() + \"/src/database/plants/stage01.jpg\"\n",
        "im = Image.open(path)\n",
        "plt.imshow(im)\n"
      ]
    },
    {
      "cell_type": "markdown",
      "metadata": {
        "id": "UrhRAJ8s8aM_"
      },
      "source": [
        "Convert image to grey scale\n"
      ]
    },
    {
      "cell_type": "code",
      "execution_count": 5,
      "metadata": {
        "colab": {
          "base_uri": "https://localhost:8080/",
          "height": 286
        },
        "id": "M_vWnGmA8cqr",
        "outputId": "6347aac4-8244-477d-fa84-e26fb52bfafd"
      },
      "outputs": [
        {
          "data": {
            "text/plain": [
              "<matplotlib.image.AxesImage at 0x7f2fb62eb610>"
            ]
          },
          "execution_count": 5,
          "metadata": {},
          "output_type": "execute_result"
        },
        {
          "data": {
            "image/png": "[encoded data removed]",
            "text/plain": [
              "<Figure size 432x288 with 1 Axes>"
            ]
          },
          "metadata": {
            "needs_background": "light"
          },
          "output_type": "display_data"
        }
      ],
      "source": [
        "grey_img = Image.open(path).convert('L')\n",
        "plt.imshow(grey_img)"
      ]
    },
    {
      "cell_type": "markdown",
      "metadata": {
        "id": "nfl01hdx-RWd"
      },
      "source": [
        "Create simple 2d square surface with 2 triangles"
      ]
    },
    {
      "cell_type": "markdown",
      "metadata": {
        "id": "cEIYmP8sBlLY"
      },
      "source": [
        "Create surface 1000 x 5000 with N triangles"
      ]
    },
    {
      "cell_type": "code",
      "execution_count": 8,
      "metadata": {
        "colab": {
          "base_uri": "https://localhost:8080/",
          "height": 170
        },
        "id": "jnwFxMTtBwFe",
        "outputId": "afde0b81-bb71-4b43-b635-3b9bd1cc47bc"
      },
      "outputs": [
        {
          "name": "stdout",
          "output_type": "stream",
          "text": [
            "[[255 255 255 ... 255 255 255]\n",
            " [255 255 255 ... 255 255 255]\n",
            " [255 255 255 ... 255 255 255]\n",
            " ...\n",
            " [255 255 255 ... 255 255 255]\n",
            " [255 255 255 ... 255 255 255]\n",
            " [255 255 255 ... 255 255 255]]\n",
            "number of faces: 341316\n",
            "<stl.mesh.Mesh object at 0x7f2fb6357d90>\n"
          ]
        }
      ],
      "source": [
        "grey_img = Image.open(path).convert('L')\n",
        "\n",
        "max_size=(500,500)\n",
        "max_height=10\n",
        "min_height=0\n",
        "\n",
        "#height=0 for minPix\n",
        "#height=maxHeight for maxPIx\n",
        "\n",
        "grey_img.thumbnail(max_size)\n",
        "imageNp = np.array(grey_img)\n",
        "maxPix=imageNp.max()\n",
        "minPix=imageNp.min()\n",
        "\n",
        "\n",
        "\n",
        "print(imageNp)\n",
        "(ncols,nrows)=grey_img.size\n",
        "\n",
        "vertices=np.zeros((nrows,ncols,3))\n",
        "\n",
        "for x in range(0, ncols):\n",
        "  for y in range(0, nrows):\n",
        "    pixelIntensity = imageNp[y][x]\n",
        "    z = (pixelIntensity * max_height) / maxPix\n",
        "    #print(imageNp[y][x])\n",
        "    vertices[y][x]=(x, y, z)\n",
        "\n",
        "faces=[]\n",
        "\n",
        "for x in range(0, ncols - 1):\n",
        "  for y in range(0, nrows - 1):\n",
        "    # create face 1\n",
        "    vertice1 = vertices[y][x]\n",
        "    vertice2 = vertices[y+1][x]\n",
        "    vertice3 = vertices[y+1][x+1]\n",
        "    face1 = np.array([vertice1,vertice2,vertice3])\n",
        "\n",
        "    # create face 2 \n",
        "    vertice1 = vertices[y][x]\n",
        "    vertice2 = vertices[y][x+1]\n",
        "    vertice3 = vertices[y+1][x+1]\n",
        "\n",
        "    face2 = np.array([vertice1,vertice2,vertice3])\n",
        "\n",
        "    faces.append(face1)\n",
        "    faces.append(face2)\n",
        "\n",
        "print(f\"number of faces: {len(faces)}\")\n",
        "facesNp = np.array(faces)\n",
        "# Create the mesh\n",
        "surface = mesh.Mesh(np.zeros(facesNp.shape[0], dtype=mesh.Mesh.dtype))\n",
        "for i, f in enumerate(faces):\n",
        "    for j in range(3):\n",
        "        surface.vectors[i][j] = facesNp[i][j]\n",
        "# Write the mesh to file \"plant.stl\"\n",
        "surface.save('plant.stl')"
      ]
    }
  ],
  "metadata": {
    "colab": {
      "authorship_tag": "ABX9TyPjr24EM2ie/SL4TQsTREAC",
      "collapsed_sections": [],
      "include_colab_link": true,
      "name": "Python notebook to learn how to create 3D objects in STL format.ipynb",
      "provenance": [],
      "toc_visible": true
    },
    "kernelspec": {
      "display_name": "Python 3",
      "name": "python3"
    },
    "language_info": {
      "codemirror_mode": {
        "name": "ipython",
        "version": 3
      },
      "file_extension": ".py",
      "mimetype": "text/x-python",
      "name": "python",
      "nbconvert_exporter": "python",
      "pygments_lexer": "ipython3",
      "version": "3.10.0"
    }
  },
  "nbformat": 4,
  "nbformat_minor": 0
}
